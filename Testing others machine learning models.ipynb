{
 "cells": [
  {
   "cell_type": "code",
   "execution_count": 203,
   "id": "c3f16900-1bc4-43c4-a509-e103b921f78b",
   "metadata": {},
   "outputs": [],
   "source": [
    "import numpy as np\n",
    "import pandas as pd\n",
    "import matplotlib.pyplot as plt"
   ]
  },
  {
   "cell_type": "markdown",
   "id": "cc6235a9-09dd-4595-b69b-78a3e0dcf840",
   "metadata": {},
   "source": [
    "# Dataset preprocessing"
   ]
  },
  {
   "cell_type": "markdown",
   "id": "69f2f7b2-7aff-4dab-b010-758896d8ed93",
   "metadata": {},
   "source": [
    "## Visualizing dataset"
   ]
  },
  {
   "cell_type": "code",
   "execution_count": 204,
   "id": "5050bf27-5191-426e-89b2-8ec3c8874103",
   "metadata": {},
   "outputs": [
    {
     "data": {
      "text/html": [
       "<div>\n",
       "<style scoped>\n",
       "    .dataframe tbody tr th:only-of-type {\n",
       "        vertical-align: middle;\n",
       "    }\n",
       "\n",
       "    .dataframe tbody tr th {\n",
       "        vertical-align: top;\n",
       "    }\n",
       "\n",
       "    .dataframe thead th {\n",
       "        text-align: right;\n",
       "    }\n",
       "</style>\n",
       "<table border=\"1\" class=\"dataframe\">\n",
       "  <thead>\n",
       "    <tr style=\"text-align: right;\">\n",
       "      <th></th>\n",
       "      <th>ID Cleint</th>\n",
       "      <th>1</th>\n",
       "      <th>2</th>\n",
       "      <th>3</th>\n",
       "      <th>4</th>\n",
       "      <th>5</th>\n",
       "      <th>6</th>\n",
       "      <th>7</th>\n",
       "      <th>8</th>\n",
       "      <th>9</th>\n",
       "      <th>...</th>\n",
       "      <th>34</th>\n",
       "      <th>35</th>\n",
       "      <th>36</th>\n",
       "      <th>37</th>\n",
       "      <th>38</th>\n",
       "      <th>39</th>\n",
       "      <th>40</th>\n",
       "      <th>41</th>\n",
       "      <th>42</th>\n",
       "      <th>43</th>\n",
       "    </tr>\n",
       "  </thead>\n",
       "  <tbody>\n",
       "    <tr>\n",
       "      <th>0</th>\n",
       "      <td>DriverCount</td>\n",
       "      <td>1</td>\n",
       "      <td>1</td>\n",
       "      <td>1</td>\n",
       "      <td>1</td>\n",
       "      <td>1</td>\n",
       "      <td>1</td>\n",
       "      <td>1</td>\n",
       "      <td>1</td>\n",
       "      <td>1</td>\n",
       "      <td>...</td>\n",
       "      <td>1</td>\n",
       "      <td>1</td>\n",
       "      <td>1</td>\n",
       "      <td>1</td>\n",
       "      <td>1</td>\n",
       "      <td>1</td>\n",
       "      <td>1</td>\n",
       "      <td>1</td>\n",
       "      <td>1</td>\n",
       "      <td>1</td>\n",
       "    </tr>\n",
       "    <tr>\n",
       "      <th>1</th>\n",
       "      <td>Arr</td>\n",
       "      <td>16</td>\n",
       "      <td>19</td>\n",
       "      <td>24</td>\n",
       "      <td>43</td>\n",
       "      <td>45</td>\n",
       "      <td>55</td>\n",
       "      <td>62</td>\n",
       "      <td>70</td>\n",
       "      <td>79</td>\n",
       "      <td>...</td>\n",
       "      <td>357</td>\n",
       "      <td>357</td>\n",
       "      <td>371</td>\n",
       "      <td>385</td>\n",
       "      <td>415</td>\n",
       "      <td>439</td>\n",
       "      <td>440</td>\n",
       "      <td>441</td>\n",
       "      <td>441</td>\n",
       "      <td>459</td>\n",
       "    </tr>\n",
       "    <tr>\n",
       "      <th>2</th>\n",
       "      <td>1</td>\n",
       "      <td>0</td>\n",
       "      <td>0</td>\n",
       "      <td>0</td>\n",
       "      <td>0</td>\n",
       "      <td>0</td>\n",
       "      <td>0</td>\n",
       "      <td>0</td>\n",
       "      <td>0</td>\n",
       "      <td>0</td>\n",
       "      <td>...</td>\n",
       "      <td>0</td>\n",
       "      <td>0</td>\n",
       "      <td>0</td>\n",
       "      <td>0</td>\n",
       "      <td>0</td>\n",
       "      <td>0</td>\n",
       "      <td>0</td>\n",
       "      <td>0</td>\n",
       "      <td>0</td>\n",
       "      <td>0</td>\n",
       "    </tr>\n",
       "    <tr>\n",
       "      <th>3</th>\n",
       "      <td>2</td>\n",
       "      <td>0</td>\n",
       "      <td>0</td>\n",
       "      <td>0</td>\n",
       "      <td>0</td>\n",
       "      <td>0</td>\n",
       "      <td>0</td>\n",
       "      <td>0</td>\n",
       "      <td>0</td>\n",
       "      <td>0</td>\n",
       "      <td>...</td>\n",
       "      <td>0</td>\n",
       "      <td>0</td>\n",
       "      <td>0</td>\n",
       "      <td>0</td>\n",
       "      <td>0</td>\n",
       "      <td>0</td>\n",
       "      <td>0</td>\n",
       "      <td>0</td>\n",
       "      <td>0</td>\n",
       "      <td>2</td>\n",
       "    </tr>\n",
       "    <tr>\n",
       "      <th>4</th>\n",
       "      <td>3</td>\n",
       "      <td>0</td>\n",
       "      <td>0</td>\n",
       "      <td>0</td>\n",
       "      <td>0</td>\n",
       "      <td>0</td>\n",
       "      <td>0</td>\n",
       "      <td>0</td>\n",
       "      <td>0</td>\n",
       "      <td>0</td>\n",
       "      <td>...</td>\n",
       "      <td>1</td>\n",
       "      <td>1</td>\n",
       "      <td>1</td>\n",
       "      <td>1</td>\n",
       "      <td>1</td>\n",
       "      <td>1</td>\n",
       "      <td>1</td>\n",
       "      <td>1</td>\n",
       "      <td>1</td>\n",
       "      <td>1</td>\n",
       "    </tr>\n",
       "  </tbody>\n",
       "</table>\n",
       "<p>5 rows × 44 columns</p>\n",
       "</div>"
      ],
      "text/plain": [
       "     ID Cleint   1   2   3   4   5   6   7   8   9  ...   34   35   36   37  \\\n",
       "0  DriverCount   1   1   1   1   1   1   1   1   1  ...    1    1    1    1   \n",
       "1          Arr  16  19  24  43  45  55  62  70  79  ...  357  357  371  385   \n",
       "2            1   0   0   0   0   0   0   0   0   0  ...    0    0    0    0   \n",
       "3            2   0   0   0   0   0   0   0   0   0  ...    0    0    0    0   \n",
       "4            3   0   0   0   0   0   0   0   0   0  ...    1    1    1    1   \n",
       "\n",
       "    38   39   40   41   42   43  \n",
       "0    1    1    1    1    1    1  \n",
       "1  415  439  440  441  441  459  \n",
       "2    0    0    0    0    0    0  \n",
       "3    0    0    0    0    0    2  \n",
       "4    1    1    1    1    1    1  \n",
       "\n",
       "[5 rows x 44 columns]"
      ]
     },
     "execution_count": 204,
     "metadata": {},
     "output_type": "execute_result"
    }
   ],
   "source": [
    "df = pd.read_csv('./Dataset/1_record_2.csv')\n",
    "df[[df.columns[i] for i in range(len(df.columns)-1)]].head()"
   ]
  },
  {
   "cell_type": "markdown",
   "id": "f73a1779-290e-45e8-a95d-694d75379ae1",
   "metadata": {},
   "source": [
    "## Lodind dataset"
   ]
  },
  {
   "cell_type": "code",
   "execution_count": 205,
   "id": "38dda01e-fdee-44fb-a119-d5c51469f4e7",
   "metadata": {},
   "outputs": [],
   "source": [
    "df = pd.read_csv('./Dataset/1_record_2.csv')\n",
    "df = df.sample(n=df.shape[0])\n",
    "X  = df.T[[i for i in range(102)]][1:df.shape[1]-1].to_numpy()\n",
    "y  = df.T[102][1:df.shape[1]-1].to_numpy()"
   ]
  },
  {
   "cell_type": "code",
   "execution_count": 206,
   "id": "2aba1145-c048-4fae-9583-ec0cad96ebd7",
   "metadata": {},
   "outputs": [],
   "source": [
    "for i in range(1,201):\n",
    "    for k in range(5):\n",
    "        df = pd.read_csv('./Dataset/'+str(i + 200*k)+'_record_2.csv')\n",
    "        df = df.sample(n=df.shape[0])\n",
    "        X  = np.append(X, df.T[[i for i in range(102)]][1:df.shape[1]-1].to_numpy(), axis = 0)\n",
    "        y  = np.append(y, df.T[102][1:df.shape[1]-1].to_numpy())"
   ]
  },
  {
   "cell_type": "code",
   "execution_count": 207,
   "id": "eba5f1d3-19e5-4365-b3c6-1de89e635956",
   "metadata": {},
   "outputs": [],
   "source": [
    "X = np.asarray(X).astype(np.float32)\n",
    "y = np.asarray(y).astype(np.int32)"
   ]
  },
  {
   "cell_type": "code",
   "execution_count": 208,
   "id": "8d4fe7b6-2279-42c5-b5e2-40d0c3ba47c5",
   "metadata": {},
   "outputs": [
    {
     "data": {
      "text/plain": [
       "(37306, 102)"
      ]
     },
     "execution_count": 208,
     "metadata": {},
     "output_type": "execute_result"
    }
   ],
   "source": [
    "X.shape"
   ]
  },
  {
   "cell_type": "code",
   "execution_count": 209,
   "id": "5b05c688-dbb3-4b33-8306-32e58afb14ba",
   "metadata": {},
   "outputs": [
    {
     "data": {
      "text/plain": [
       "(37306,)"
      ]
     },
     "execution_count": 209,
     "metadata": {},
     "output_type": "execute_result"
    }
   ],
   "source": [
    "y.shape"
   ]
  },
  {
   "cell_type": "markdown",
   "id": "e6e981ba-8410-4977-8e58-c5b6c03b11c2",
   "metadata": {},
   "source": [
    "## Splitting dataset into training and testing dataset"
   ]
  },
  {
   "cell_type": "markdown",
   "id": "a39dee2e-1f8b-4cd7-abe9-397a8ac209a4",
   "metadata": {},
   "source": [
    "#### We take 70% for training and 30% for testing"
   ]
  },
  {
   "cell_type": "code",
   "execution_count": 210,
   "id": "c4f05577-8fc4-4554-9980-a42f4173c08e",
   "metadata": {},
   "outputs": [],
   "source": [
    "percent = 0.80"
   ]
  },
  {
   "cell_type": "code",
   "execution_count": 211,
   "id": "6ea5b835-02b1-4def-b921-e4f51d05f87c",
   "metadata": {},
   "outputs": [],
   "source": [
    "X_train, X_test = X[0:int(X.shape[0]*percent)], X[int(X.shape[0]*percent):X.shape[0]]\n",
    "y_train, y_test = y[0:int(y.shape[0]*percent)], y[int(X.shape[0]*percent):y.shape[0]]"
   ]
  },
  {
   "cell_type": "markdown",
   "id": "de2cf5a0-9b0a-4174-8542-c9f944430939",
   "metadata": {},
   "source": [
    "# Classification Task"
   ]
  },
  {
   "cell_type": "markdown",
   "id": "fe7d2013-7714-4f52-b46d-1b8b9243b873",
   "metadata": {},
   "source": [
    "In this part we try to classify our dataset using several classification models, we will use in the first SVM (Support Vector Machine), in a second step we will use a deep learning model of the Tensorflow framework and finally we will use our deep learning model that we built from scratch."
   ]
  },
  {
   "cell_type": "markdown",
   "id": "6db673a1-c594-4dbc-9083-64b64d3412cd",
   "metadata": {},
   "source": [
    "## 1- SVM model"
   ]
  },
  {
   "cell_type": "code",
   "execution_count": 106,
   "id": "0997e963-f6db-4db6-a399-e86f07fb2141",
   "metadata": {},
   "outputs": [],
   "source": [
    "from sklearn import svm, metrics"
   ]
  },
  {
   "cell_type": "markdown",
   "id": "448b2ad3-ed91-4ed3-b132-5103cf975e3a",
   "metadata": {},
   "source": [
    "### Fitting the model in the training dataset"
   ]
  },
  {
   "cell_type": "code",
   "execution_count": 213,
   "id": "a62ab84a-c568-4876-8956-00be53d5e2fd",
   "metadata": {},
   "outputs": [],
   "source": [
    "clf = svm.SVC()\n",
    "clf.fit(X_train, y_train)"
   ]
  },
  {
   "cell_type": "markdown",
   "id": "a400d755-bb3f-416e-af0d-9d5b315440f7",
   "metadata": {},
   "source": [
    "### Testing the model in the testing dataset"
   ]
  },
  {
   "cell_type": "code",
   "execution_count": 108,
   "id": "8d18f7e4-199a-449a-b130-a023beef356b",
   "metadata": {},
   "outputs": [
    {
     "name": "stdout",
     "output_type": "stream",
     "text": [
      "Classification report for classifier SVC():\n",
      "              precision    recall  f1-score   support\n",
      "\n",
      "           0       0.00      0.00      0.00      1614\n",
      "           1       0.78      1.00      0.88      5848\n",
      "\n",
      "    accuracy                           0.78      7462\n",
      "   macro avg       0.39      0.50      0.44      7462\n",
      "weighted avg       0.61      0.78      0.69      7462\n",
      "\n",
      "\n"
     ]
    },
    {
     "name": "stderr",
     "output_type": "stream",
     "text": [
      "/home/imrane/anaconda3/lib/python3.8/site-packages/sklearn/metrics/_classification.py:1245: UndefinedMetricWarning: Precision and F-score are ill-defined and being set to 0.0 in labels with no predicted samples. Use `zero_division` parameter to control this behavior.\n",
      "  _warn_prf(average, modifier, msg_start, len(result))\n",
      "/home/imrane/anaconda3/lib/python3.8/site-packages/sklearn/metrics/_classification.py:1245: UndefinedMetricWarning: Precision and F-score are ill-defined and being set to 0.0 in labels with no predicted samples. Use `zero_division` parameter to control this behavior.\n",
      "  _warn_prf(average, modifier, msg_start, len(result))\n",
      "/home/imrane/anaconda3/lib/python3.8/site-packages/sklearn/metrics/_classification.py:1245: UndefinedMetricWarning: Precision and F-score are ill-defined and being set to 0.0 in labels with no predicted samples. Use `zero_division` parameter to control this behavior.\n",
      "  _warn_prf(average, modifier, msg_start, len(result))\n"
     ]
    }
   ],
   "source": [
    "predicted = clf.predict(X_test)\n",
    "print(f\"Classification report for classifier {clf}:\\n\"\n",
    "      f\"{metrics.classification_report(y_test, predicted)}\\n\")"
   ]
  },
  {
   "cell_type": "markdown",
   "id": "c57d1525-e8ff-4a12-8504-9ab0881d597e",
   "metadata": {},
   "source": [
    "### Interpretation\n",
    "  We can see that the precision, recall and f1 score for class 1 are very strong and for class 0 are very low. This is due to the significant lack of data for class 0."
   ]
  },
  {
   "cell_type": "markdown",
   "id": "f7c4be7a-8b5d-4088-99d9-3cae8e49d21b",
   "metadata": {},
   "source": [
    "# 2- Deep learning of Tensorflow model"
   ]
  },
  {
   "cell_type": "markdown",
   "id": "c4c4f813-a1e0-4d88-afdb-80a9c6e74cc0",
   "metadata": {},
   "source": [
    "## Import dependencies for the Tensorflow Deep Learning"
   ]
  },
  {
   "cell_type": "code",
   "execution_count": 214,
   "id": "f6f651b5-b5a2-4046-aac6-fb724c6e3ff1",
   "metadata": {},
   "outputs": [],
   "source": [
    "import tensorflow as tf\n",
    "from tensorflow.keras.datasets import fashion_mnist"
   ]
  },
  {
   "cell_type": "markdown",
   "id": "9baa069e-315d-4f12-ae18-134713824295",
   "metadata": {},
   "source": [
    "## Building an Artificial Neural network"
   ]
  },
  {
   "cell_type": "markdown",
   "id": "9a1a639e-0e08-44fb-9f64-97d2ac0c042a",
   "metadata": {},
   "source": [
    "#### Defining the model"
   ]
  },
  {
   "cell_type": "code",
   "execution_count": 215,
   "id": "ed25a3ee-ddb6-4242-936f-aef5e57cd66c",
   "metadata": {},
   "outputs": [],
   "source": [
    "model = tf.keras.models.Sequential()"
   ]
  },
  {
   "cell_type": "markdown",
   "id": "89a5b677-1dac-4aec-bfbf-50ab28ea8073",
   "metadata": {},
   "source": [
    "#### Adding the first layer (Dense layer)\n",
    "\n",
    "Layer hyper-parameters:\n",
    "- number of units/neurons: 128\n",
    "- activation function: ReLU\n",
    "- input_shape: (100, )"
   ]
  },
  {
   "cell_type": "code",
   "execution_count": 216,
   "id": "379ebd10-1b72-4ba1-9acc-3cfc20058447",
   "metadata": {},
   "outputs": [],
   "source": [
    "model.add(tf.keras.layers.Dense(units=128, activation='relu', input_shape=(102, )))"
   ]
  },
  {
   "cell_type": "markdown",
   "id": "532e9f05-d252-4285-84b8-9141ec49b3a2",
   "metadata": {},
   "source": [
    "#### Adding a Dropout layer "
   ]
  },
  {
   "cell_type": "code",
   "execution_count": 217,
   "id": "55090e3f-7d3b-474b-a8e5-7b9515e79314",
   "metadata": {},
   "outputs": [],
   "source": [
    "model.add(tf.keras.layers.Dropout(0.2))"
   ]
  },
  {
   "cell_type": "markdown",
   "id": "a5424663-f769-45fc-b7fe-ec9f546ff190",
   "metadata": {},
   "source": [
    "#### Adding the second layer (output layer)\n",
    "\n",
    "- units == number of classes (10 in the case of Fashion MNIST)\n",
    "- activation = 'softmax'"
   ]
  },
  {
   "cell_type": "code",
   "execution_count": 218,
   "id": "f52bf1f0-5613-45fa-8a27-fa863b8da28e",
   "metadata": {},
   "outputs": [],
   "source": [
    "model.add(tf.keras.layers.Dense(units=2, activation='softmax'))"
   ]
  },
  {
   "cell_type": "markdown",
   "id": "3395b18b-dac7-4837-967e-59f426ef2297",
   "metadata": {},
   "source": [
    "#### Comiling the model\n",
    "\n",
    "- Optimizer: Adam\n",
    "- Loss: Sparse softmax (categorical) crossentropy "
   ]
  },
  {
   "cell_type": "code",
   "execution_count": 219,
   "id": "df427444-8d81-4dc8-91b8-07b955556077",
   "metadata": {},
   "outputs": [],
   "source": [
    "model.compile(optimizer='adam', loss='sparse_categorical_crossentropy', metrics=['sparse_categorical_accuracy'])"
   ]
  },
  {
   "cell_type": "code",
   "execution_count": 220,
   "id": "b7c40199-73e5-4a10-ad95-67b81bc24865",
   "metadata": {},
   "outputs": [
    {
     "name": "stdout",
     "output_type": "stream",
     "text": [
      "Model: \"sequential_2\"\n",
      "_________________________________________________________________\n",
      "Layer (type)                 Output Shape              Param #   \n",
      "=================================================================\n",
      "dense_4 (Dense)              (None, 128)               13184     \n",
      "_________________________________________________________________\n",
      "dropout_2 (Dropout)          (None, 128)               0         \n",
      "_________________________________________________________________\n",
      "dense_5 (Dense)              (None, 2)                 258       \n",
      "=================================================================\n",
      "Total params: 13,442\n",
      "Trainable params: 13,442\n",
      "Non-trainable params: 0\n",
      "_________________________________________________________________\n"
     ]
    }
   ],
   "source": [
    "model.summary()"
   ]
  },
  {
   "cell_type": "markdown",
   "id": "5b059990-9a88-4603-a68c-9f416953428a",
   "metadata": {},
   "source": [
    "#### Training the model"
   ]
  },
  {
   "cell_type": "code",
   "execution_count": 221,
   "id": "b5207f57-41fe-416a-8c01-5e8b8dc6fab7",
   "metadata": {},
   "outputs": [
    {
     "name": "stdout",
     "output_type": "stream",
     "text": [
      "Epoch 1/20\n",
      "933/933 [==============================] - 3s 3ms/step - loss: 1.3041 - sparse_categorical_accuracy: 0.7455\n",
      "Epoch 2/20\n",
      "933/933 [==============================] - 3s 3ms/step - loss: 0.4025 - sparse_categorical_accuracy: 0.8140\n",
      "Epoch 3/20\n",
      "933/933 [==============================] - 3s 3ms/step - loss: 0.3727 - sparse_categorical_accuracy: 0.8311\n",
      "Epoch 4/20\n",
      "933/933 [==============================] - 3s 3ms/step - loss: 0.3626 - sparse_categorical_accuracy: 0.8355\n",
      "Epoch 5/20\n",
      "933/933 [==============================] - 3s 3ms/step - loss: 0.3460 - sparse_categorical_accuracy: 0.8444\n",
      "Epoch 6/20\n",
      "933/933 [==============================] - 3s 3ms/step - loss: 0.3365 - sparse_categorical_accuracy: 0.8490\n",
      "Epoch 7/20\n",
      "933/933 [==============================] - 3s 3ms/step - loss: 0.3315 - sparse_categorical_accuracy: 0.8537\n",
      "Epoch 8/20\n",
      "933/933 [==============================] - 3s 3ms/step - loss: 0.3222 - sparse_categorical_accuracy: 0.8594\n",
      "Epoch 9/20\n",
      "933/933 [==============================] - 3s 3ms/step - loss: 0.3155 - sparse_categorical_accuracy: 0.8608\n",
      "Epoch 10/20\n",
      "933/933 [==============================] - 3s 3ms/step - loss: 0.3117 - sparse_categorical_accuracy: 0.8645\n",
      "Epoch 11/20\n",
      "933/933 [==============================] - 3s 3ms/step - loss: 0.3046 - sparse_categorical_accuracy: 0.8687\n",
      "Epoch 12/20\n",
      "933/933 [==============================] - 3s 3ms/step - loss: 0.2990 - sparse_categorical_accuracy: 0.8706\n",
      "Epoch 13/20\n",
      "933/933 [==============================] - 3s 3ms/step - loss: 0.2966 - sparse_categorical_accuracy: 0.8718\n",
      "Epoch 14/20\n",
      "933/933 [==============================] - 3s 3ms/step - loss: 0.2923 - sparse_categorical_accuracy: 0.8743\n",
      "Epoch 15/20\n",
      "933/933 [==============================] - 3s 3ms/step - loss: 0.2892 - sparse_categorical_accuracy: 0.8768\n",
      "Epoch 16/20\n",
      "933/933 [==============================] - 3s 3ms/step - loss: 0.2854 - sparse_categorical_accuracy: 0.8790\n",
      "Epoch 17/20\n",
      "933/933 [==============================] - 3s 3ms/step - loss: 0.2835 - sparse_categorical_accuracy: 0.8792\n",
      "Epoch 18/20\n",
      "933/933 [==============================] - 3s 3ms/step - loss: 0.2780 - sparse_categorical_accuracy: 0.8816\n",
      "Epoch 19/20\n",
      "933/933 [==============================] - 3s 3ms/step - loss: 0.2741 - sparse_categorical_accuracy: 0.8867\n",
      "Epoch 20/20\n",
      "933/933 [==============================] - 3s 3ms/step - loss: 0.2747 - sparse_categorical_accuracy: 0.8827\n"
     ]
    },
    {
     "data": {
      "text/plain": [
       "<keras.callbacks.History at 0x7fcd4f6309a0>"
      ]
     },
     "execution_count": 221,
     "metadata": {},
     "output_type": "execute_result"
    }
   ],
   "source": [
    "model.fit(X_train, y_train, epochs=20)"
   ]
  },
  {
   "cell_type": "markdown",
   "id": "e3c93ecc-e85a-4c7a-a952-23e08fea2130",
   "metadata": {},
   "source": [
    "#### Model evaluation and prediction"
   ]
  },
  {
   "cell_type": "code",
   "execution_count": 222,
   "id": "cfaa027c-42f6-4e96-83cc-f88af4697205",
   "metadata": {},
   "outputs": [
    {
     "name": "stdout",
     "output_type": "stream",
     "text": [
      "234/234 [==============================] - 1s 2ms/step - loss: 0.3223 - sparse_categorical_accuracy: 0.8618\n"
     ]
    }
   ],
   "source": [
    "test_loss, test_accuracy = model.evaluate(X_test, y_test)"
   ]
  },
  {
   "cell_type": "code",
   "execution_count": 223,
   "id": "a554ded1-0eaf-4ea3-bfe8-3639dd358807",
   "metadata": {},
   "outputs": [
    {
     "name": "stdout",
     "output_type": "stream",
     "text": [
      "Test accuracy: 0.8618332743644714\n"
     ]
    }
   ],
   "source": [
    "print(\"Test accuracy: {}\".format(test_accuracy))"
   ]
  },
  {
   "cell_type": "code",
   "execution_count": 224,
   "id": "9da9910c-c9a7-4df3-8db9-87d14b1f5e23",
   "metadata": {},
   "outputs": [
    {
     "data": {
      "text/plain": [
       "(102,)"
      ]
     },
     "execution_count": 224,
     "metadata": {},
     "output_type": "execute_result"
    }
   ],
   "source": [
    "X_test[0].T.shape"
   ]
  },
  {
   "cell_type": "code",
   "execution_count": 225,
   "id": "70d986f7-c599-4702-a601-f57d15218c5a",
   "metadata": {},
   "outputs": [
    {
     "data": {
      "text/plain": [
       "(7462, 102)"
      ]
     },
     "execution_count": 225,
     "metadata": {},
     "output_type": "execute_result"
    }
   ],
   "source": [
    "X_test.shape"
   ]
  },
  {
   "cell_type": "code",
   "execution_count": 226,
   "id": "a1261ff8-791c-46e8-bd02-10f8c59b9022",
   "metadata": {},
   "outputs": [],
   "source": [
    "list_y_0 = np.where(y_test == 0)[0].tolist()"
   ]
  },
  {
   "cell_type": "code",
   "execution_count": 227,
   "id": "ba3f6b79-092f-4092-93b4-c03a813f5552",
   "metadata": {},
   "outputs": [],
   "source": [
    "count = 0"
   ]
  },
  {
   "cell_type": "code",
   "execution_count": 228,
   "id": "ccbffd92-08ce-447e-b4b5-36bc0376c5b1",
   "metadata": {},
   "outputs": [
    {
     "data": {
      "text/plain": [
       "1008"
      ]
     },
     "execution_count": 228,
     "metadata": {},
     "output_type": "execute_result"
    }
   ],
   "source": [
    "for index in list_y_0:\n",
    "    if model.predict(X_test[index].reshape(X_test[index].shape[0],1).T)[0][0] >= 0.5:\n",
    "        count += 1\n",
    "count"
   ]
  },
  {
   "cell_type": "code",
   "execution_count": 229,
   "id": "1dd79939-a3b7-43d6-b530-e22fad567364",
   "metadata": {},
   "outputs": [
    {
     "data": {
      "text/plain": [
       "62.45353159851301"
      ]
     },
     "execution_count": 229,
     "metadata": {},
     "output_type": "execute_result"
    }
   ],
   "source": [
    "count/1614*100"
   ]
  },
  {
   "cell_type": "markdown",
   "id": "fc890bd9-1700-476b-9a20-babb3d9c82be",
   "metadata": {},
   "source": [
    "# 3- Our Deep Learning Model"
   ]
  },
  {
   "cell_type": "markdown",
   "id": "afa88f41-c1a1-427d-a826-777f2938aa10",
   "metadata": {},
   "source": [
    "## Import dependencies of our model"
   ]
  },
  {
   "cell_type": "code",
   "execution_count": 230,
   "id": "b6f5cff9-a0af-4438-8131-0836e722968f",
   "metadata": {},
   "outputs": [],
   "source": [
    "from IIA import DeepNeuralNets"
   ]
  },
  {
   "cell_type": "markdown",
   "id": "a98fb50e-cd52-4200-8c59-e4fb3e838f50",
   "metadata": {},
   "source": [
    "## Building an Artificial Neural network"
   ]
  },
  {
   "cell_type": "markdown",
   "id": "22c951a8-07c9-4bda-bd26-b3ebf583a6dd",
   "metadata": {},
   "source": [
    "### Initialization of the dimension of the layers of the deep neural networks"
   ]
  },
  {
   "cell_type": "code",
   "execution_count": 234,
   "id": "fbb98694-f35c-4b15-bdf3-860e5a787cb8",
   "metadata": {},
   "outputs": [],
   "source": [
    "m   = 102  # couche d'entrer\n",
    "n_1 = 40  # couche 1\n",
    "n_2 = 20  # couche 2\n",
    "n_3 = 1    # couche de sortie\n",
    "layers_dims = [m, n_1, n_2, n_3]"
   ]
  },
  {
   "cell_type": "markdown",
   "id": "3f3f62c4-2cd1-45f0-a3ae-f6d8b25855d3",
   "metadata": {},
   "source": [
    "### Declaration of the DeepNeuralNets class"
   ]
  },
  {
   "cell_type": "code",
   "execution_count": 237,
   "id": "98ae6af1-e31c-40cb-a184-011ded0b163f",
   "metadata": {},
   "outputs": [],
   "source": [
    "DNN = DeepNeuralNets(\n",
    "    X_train.T, \n",
    "    y_train.reshape(y_train.shape[0],1).T, \n",
    "    layers_dims, \n",
    "    learning_rate = 0.001, \n",
    "    num_iterations = 5000, \n",
    "    initialization = \"random\", \n",
    "    optimizer=\"gd\", \n",
    "    print_cost=True,\n",
    "    nbr_print = 100\n",
    ")"
   ]
  },
  {
   "cell_type": "markdown",
   "id": "d528c1c9-3eed-4cfb-af44-7c3071192a7c",
   "metadata": {},
   "source": [
    "### Fitting the model on the training dataset"
   ]
  },
  {
   "cell_type": "code",
   "execution_count": 239,
   "id": "d76c532b-aaf7-4d15-bfa7-df4d691c80ce",
   "metadata": {},
   "outputs": [
    {
     "name": "stdout",
     "output_type": "stream",
     "text": [
      "Cost after iteration 0: 0.719005\n",
      "Cost after iteration 100: 0.569212\n",
      "Cost after iteration 200: 0.566637\n",
      "Cost after iteration 300: 0.565676\n",
      "Cost after iteration 400: 0.564727\n",
      "Cost after iteration 500: 0.563785\n",
      "Cost after iteration 600: 0.562846\n",
      "Cost after iteration 700: 0.561908\n",
      "Cost after iteration 800: 0.560971\n",
      "Cost after iteration 900: 0.560032\n",
      "Cost after iteration 1000: 0.559090\n",
      "Cost after iteration 1100: 0.558142\n",
      "Cost after iteration 1200: 0.557188\n",
      "Cost after iteration 1300: 0.556225\n",
      "Cost after iteration 1400: 0.555252\n",
      "Cost after iteration 1500: 0.554266\n",
      "Cost after iteration 1600: 0.553267\n",
      "Cost after iteration 1700: 0.552252\n",
      "Cost after iteration 1800: 0.551219\n",
      "Cost after iteration 1900: 0.550165\n",
      "Cost after iteration 2000: 0.549085\n",
      "Cost after iteration 2100: 0.547948\n",
      "Cost after iteration 2200: 0.546768\n",
      "Cost after iteration 2300: 0.545616\n",
      "Cost after iteration 2400: 0.544436\n",
      "Cost after iteration 2500: 0.543229\n",
      "Cost after iteration 2600: 0.541990\n",
      "Cost after iteration 2700: 0.540719\n",
      "Cost after iteration 2800: 0.539413\n",
      "Cost after iteration 2900: 0.538070\n",
      "Cost after iteration 3000: 0.536686\n",
      "Cost after iteration 3100: 0.535256\n",
      "Cost after iteration 3200: 0.533764\n",
      "Cost after iteration 3300: 0.532053\n",
      "Cost after iteration 3400: 0.530140\n",
      "Cost after iteration 3500: 0.528479\n",
      "Cost after iteration 3600: 0.526776\n",
      "Cost after iteration 3700: 0.525030\n",
      "Cost after iteration 3800: 0.523239\n",
      "Cost after iteration 3900: 0.521405\n",
      "Cost after iteration 4000: 0.519528\n",
      "Cost after iteration 4100: 0.517608\n",
      "Cost after iteration 4200: 0.515646\n",
      "Cost after iteration 4300: 0.513645\n",
      "Cost after iteration 4400: 0.511607\n",
      "Cost after iteration 4500: 0.509533\n",
      "Cost after iteration 4600: 0.507428\n",
      "Cost after iteration 4700: 0.505294\n",
      "Cost after iteration 4800: 0.503137\n",
      "Cost after iteration 4900: 0.500960\n"
     ]
    },
    {
     "data": {
      "image/png": "[encoded data removed]",
      "text/plain": [
       "<Figure size 432x288 with 1 Axes>"
      ]
     },
     "metadata": {
      "needs_background": "light"
     },
     "output_type": "display_data"
    }
   ],
   "source": [
    "parameters = DNN.fit()"
   ]
  },
  {
   "cell_type": "markdown",
   "id": "db0bf38b-483e-479e-8391-5d00875dbd09",
   "metadata": {},
   "source": [
    "### Testing and validation of our model"
   ]
  },
  {
   "cell_type": "code",
   "execution_count": 240,
   "id": "dfc8a15d-46c1-42a5-872d-e784b918387d",
   "metadata": {},
   "outputs": [
    {
     "name": "stdout",
     "output_type": "stream",
     "text": [
      "              precision    recall  f1-score   support\n",
      "\n",
      "           0       0.00      0.00      0.00      1614\n",
      "           1       0.78      1.00      0.88      5848\n",
      "\n",
      "    accuracy                           0.78      7462\n",
      "   macro avg       0.39      0.50      0.44      7462\n",
      "weighted avg       0.61      0.78      0.69      7462\n",
      "\n",
      "\n"
     ]
    },
    {
     "name": "stderr",
     "output_type": "stream",
     "text": [
      "/home/imrane/anaconda3/lib/python3.8/site-packages/sklearn/metrics/_classification.py:1245: UndefinedMetricWarning: Precision and F-score are ill-defined and being set to 0.0 in labels with no predicted samples. Use `zero_division` parameter to control this behavior.\n",
      "  _warn_prf(average, modifier, msg_start, len(result))\n",
      "/home/imrane/anaconda3/lib/python3.8/site-packages/sklearn/metrics/_classification.py:1245: UndefinedMetricWarning: Precision and F-score are ill-defined and being set to 0.0 in labels with no predicted samples. Use `zero_division` parameter to control this behavior.\n",
      "  _warn_prf(average, modifier, msg_start, len(result))\n",
      "/home/imrane/anaconda3/lib/python3.8/site-packages/sklearn/metrics/_classification.py:1245: UndefinedMetricWarning: Precision and F-score are ill-defined and being set to 0.0 in labels with no predicted samples. Use `zero_division` parameter to control this behavior.\n",
      "  _warn_prf(average, modifier, msg_start, len(result))\n"
     ]
    }
   ],
   "source": [
    "predicted = DNN.predict(X_test.T, parameters)\n",
    "print(f\"{metrics.classification_report(y_test.reshape(y_test.shape[0],1), predicted)}\\n\")"
   ]
  }
 ],
 "metadata": {
  "kernelspec": {
   "display_name": "Python 3",
   "language": "python",
   "name": "python3"
  },
  "language_info": {
   "codemirror_mode": {
    "name": "ipython",
    "version": 3
   },
   "file_extension": ".py",
   "mimetype": "text/x-python",
   "name": "python",
   "nbconvert_exporter": "python",
   "pygments_lexer": "ipython3",
   "version": "3.8.8"
  }
 },
 "nbformat": 4,
 "nbformat_minor": 5
}
